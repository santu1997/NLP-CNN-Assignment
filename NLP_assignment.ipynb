{
  "nbformat": 4,
  "nbformat_minor": 0,
  "metadata": {
    "colab": {
      "name": "NLP assignment.ipynb",
      "provenance": [],
      "toc_visible": true
    },
    "kernelspec": {
      "name": "python3",
      "display_name": "Python 3"
    },
    "accelerator": "GPU"
  },
  "cells": [
    {
      "cell_type": "code",
      "metadata": {
        "id": "inRbQIZm_17D",
        "colab_type": "code",
        "colab": {}
      },
      "source": [
        "from sklearn import linear_model\n",
        "from sklearn.model_selection import train_test_split\n",
        "from sklearn.metrics import mean_squared_error, r2_score\n",
        "import pandas as pd\n",
        "import numpy as np\n",
        "\n",
        "\n"
      ],
      "execution_count": 0,
      "outputs": []
    },
    {
      "cell_type": "code",
      "metadata": {
        "id": "60XZc1SyAbhy",
        "colab_type": "code",
        "outputId": "8e2d1aac-4cb6-43e2-cb74-f57cd9936112",
        "colab": {
          "base_uri": "https://localhost:8080/",
          "height": 380
        }
      },
      "source": [
        "dataset = pd.read_csv('/content/housing.csv')\n",
        "print ('Here are the first ten records of the dataset:')\n",
        "dataset=dataset.dropna()\n",
        "dataset.head(10)"
      ],
      "execution_count": 5,
      "outputs": [
        {
          "output_type": "stream",
          "text": [
            "Here are the first ten records of the dataset:\n"
          ],
          "name": "stdout"
        },
        {
          "output_type": "execute_result",
          "data": {
            "text/html": [
              "<div>\n",
              "<style scoped>\n",
              "    .dataframe tbody tr th:only-of-type {\n",
              "        vertical-align: middle;\n",
              "    }\n",
              "\n",
              "    .dataframe tbody tr th {\n",
              "        vertical-align: top;\n",
              "    }\n",
              "\n",
              "    .dataframe thead th {\n",
              "        text-align: right;\n",
              "    }\n",
              "</style>\n",
              "<table border=\"1\" class=\"dataframe\">\n",
              "  <thead>\n",
              "    <tr style=\"text-align: right;\">\n",
              "      <th></th>\n",
              "      <th>longitude</th>\n",
              "      <th>latitude</th>\n",
              "      <th>housing_median_age</th>\n",
              "      <th>total_rooms</th>\n",
              "      <th>total_bedrooms</th>\n",
              "      <th>population</th>\n",
              "      <th>households</th>\n",
              "      <th>median_income</th>\n",
              "      <th>median_house_value</th>\n",
              "      <th>ocean_proximity</th>\n",
              "    </tr>\n",
              "  </thead>\n",
              "  <tbody>\n",
              "    <tr>\n",
              "      <th>0</th>\n",
              "      <td>-122.23</td>\n",
              "      <td>37.88</td>\n",
              "      <td>41.0</td>\n",
              "      <td>880.0</td>\n",
              "      <td>129.0</td>\n",
              "      <td>322.0</td>\n",
              "      <td>126.0</td>\n",
              "      <td>8.3252</td>\n",
              "      <td>452600.0</td>\n",
              "      <td>NEAR BAY</td>\n",
              "    </tr>\n",
              "    <tr>\n",
              "      <th>1</th>\n",
              "      <td>-122.22</td>\n",
              "      <td>37.86</td>\n",
              "      <td>21.0</td>\n",
              "      <td>7099.0</td>\n",
              "      <td>1106.0</td>\n",
              "      <td>2401.0</td>\n",
              "      <td>1138.0</td>\n",
              "      <td>8.3014</td>\n",
              "      <td>358500.0</td>\n",
              "      <td>NEAR BAY</td>\n",
              "    </tr>\n",
              "    <tr>\n",
              "      <th>2</th>\n",
              "      <td>-122.24</td>\n",
              "      <td>37.85</td>\n",
              "      <td>52.0</td>\n",
              "      <td>1467.0</td>\n",
              "      <td>190.0</td>\n",
              "      <td>496.0</td>\n",
              "      <td>177.0</td>\n",
              "      <td>7.2574</td>\n",
              "      <td>352100.0</td>\n",
              "      <td>NEAR BAY</td>\n",
              "    </tr>\n",
              "    <tr>\n",
              "      <th>3</th>\n",
              "      <td>-122.25</td>\n",
              "      <td>37.85</td>\n",
              "      <td>52.0</td>\n",
              "      <td>1274.0</td>\n",
              "      <td>235.0</td>\n",
              "      <td>558.0</td>\n",
              "      <td>219.0</td>\n",
              "      <td>5.6431</td>\n",
              "      <td>341300.0</td>\n",
              "      <td>NEAR BAY</td>\n",
              "    </tr>\n",
              "    <tr>\n",
              "      <th>4</th>\n",
              "      <td>-122.25</td>\n",
              "      <td>37.85</td>\n",
              "      <td>52.0</td>\n",
              "      <td>1627.0</td>\n",
              "      <td>280.0</td>\n",
              "      <td>565.0</td>\n",
              "      <td>259.0</td>\n",
              "      <td>3.8462</td>\n",
              "      <td>342200.0</td>\n",
              "      <td>NEAR BAY</td>\n",
              "    </tr>\n",
              "    <tr>\n",
              "      <th>5</th>\n",
              "      <td>-122.25</td>\n",
              "      <td>37.85</td>\n",
              "      <td>52.0</td>\n",
              "      <td>919.0</td>\n",
              "      <td>213.0</td>\n",
              "      <td>413.0</td>\n",
              "      <td>193.0</td>\n",
              "      <td>4.0368</td>\n",
              "      <td>269700.0</td>\n",
              "      <td>NEAR BAY</td>\n",
              "    </tr>\n",
              "    <tr>\n",
              "      <th>6</th>\n",
              "      <td>-122.25</td>\n",
              "      <td>37.84</td>\n",
              "      <td>52.0</td>\n",
              "      <td>2535.0</td>\n",
              "      <td>489.0</td>\n",
              "      <td>1094.0</td>\n",
              "      <td>514.0</td>\n",
              "      <td>3.6591</td>\n",
              "      <td>299200.0</td>\n",
              "      <td>NEAR BAY</td>\n",
              "    </tr>\n",
              "    <tr>\n",
              "      <th>7</th>\n",
              "      <td>-122.25</td>\n",
              "      <td>37.84</td>\n",
              "      <td>52.0</td>\n",
              "      <td>3104.0</td>\n",
              "      <td>687.0</td>\n",
              "      <td>1157.0</td>\n",
              "      <td>647.0</td>\n",
              "      <td>3.1200</td>\n",
              "      <td>241400.0</td>\n",
              "      <td>NEAR BAY</td>\n",
              "    </tr>\n",
              "    <tr>\n",
              "      <th>8</th>\n",
              "      <td>-122.26</td>\n",
              "      <td>37.84</td>\n",
              "      <td>42.0</td>\n",
              "      <td>2555.0</td>\n",
              "      <td>665.0</td>\n",
              "      <td>1206.0</td>\n",
              "      <td>595.0</td>\n",
              "      <td>2.0804</td>\n",
              "      <td>226700.0</td>\n",
              "      <td>NEAR BAY</td>\n",
              "    </tr>\n",
              "    <tr>\n",
              "      <th>9</th>\n",
              "      <td>-122.25</td>\n",
              "      <td>37.84</td>\n",
              "      <td>52.0</td>\n",
              "      <td>3549.0</td>\n",
              "      <td>707.0</td>\n",
              "      <td>1551.0</td>\n",
              "      <td>714.0</td>\n",
              "      <td>3.6912</td>\n",
              "      <td>261100.0</td>\n",
              "      <td>NEAR BAY</td>\n",
              "    </tr>\n",
              "  </tbody>\n",
              "</table>\n",
              "</div>"
            ],
            "text/plain": [
              "   longitude  latitude  ...  median_house_value  ocean_proximity\n",
              "0    -122.23     37.88  ...            452600.0         NEAR BAY\n",
              "1    -122.22     37.86  ...            358500.0         NEAR BAY\n",
              "2    -122.24     37.85  ...            352100.0         NEAR BAY\n",
              "3    -122.25     37.85  ...            341300.0         NEAR BAY\n",
              "4    -122.25     37.85  ...            342200.0         NEAR BAY\n",
              "5    -122.25     37.85  ...            269700.0         NEAR BAY\n",
              "6    -122.25     37.84  ...            299200.0         NEAR BAY\n",
              "7    -122.25     37.84  ...            241400.0         NEAR BAY\n",
              "8    -122.26     37.84  ...            226700.0         NEAR BAY\n",
              "9    -122.25     37.84  ...            261100.0         NEAR BAY\n",
              "\n",
              "[10 rows x 10 columns]"
            ]
          },
          "metadata": {
            "tags": []
          },
          "execution_count": 5
        }
      ]
    },
    {
      "cell_type": "code",
      "metadata": {
        "id": "iZOQ5ZH3HFZ_",
        "colab_type": "code",
        "outputId": "50b60495-9fdf-493f-ffc6-bca7ace70e38",
        "colab": {
          "base_uri": "https://localhost:8080/",
          "height": 229
        }
      },
      "source": [
        "x = np.linspace(0, 2*np.pi, 400)\n",
        "y = np.sin(x**2)\n",
        "f, (ax1, ax2) = plt.subplots(1, 2, sharey=True)\n",
        "ax1.plot(x, y)\n",
        "ax1.set_title('Sharing Y axis')\n",
        "ax2.scatter(x, y)"
      ],
      "execution_count": 6,
      "outputs": [
        {
          "output_type": "error",
          "ename": "NameError",
          "evalue": "ignored",
          "traceback": [
            "\u001b[0;31m---------------------------------------------------------------------------\u001b[0m",
            "\u001b[0;31mNameError\u001b[0m                                 Traceback (most recent call last)",
            "\u001b[0;32m<ipython-input-6-ddcdd0da053f>\u001b[0m in \u001b[0;36m<module>\u001b[0;34m()\u001b[0m\n\u001b[1;32m      1\u001b[0m \u001b[0mx\u001b[0m \u001b[0;34m=\u001b[0m \u001b[0mnp\u001b[0m\u001b[0;34m.\u001b[0m\u001b[0mlinspace\u001b[0m\u001b[0;34m(\u001b[0m\u001b[0;36m0\u001b[0m\u001b[0;34m,\u001b[0m \u001b[0;36m2\u001b[0m\u001b[0;34m*\u001b[0m\u001b[0mnp\u001b[0m\u001b[0;34m.\u001b[0m\u001b[0mpi\u001b[0m\u001b[0;34m,\u001b[0m \u001b[0;36m400\u001b[0m\u001b[0;34m)\u001b[0m\u001b[0;34m\u001b[0m\u001b[0;34m\u001b[0m\u001b[0m\n\u001b[1;32m      2\u001b[0m \u001b[0my\u001b[0m \u001b[0;34m=\u001b[0m \u001b[0mnp\u001b[0m\u001b[0;34m.\u001b[0m\u001b[0msin\u001b[0m\u001b[0;34m(\u001b[0m\u001b[0mx\u001b[0m\u001b[0;34m**\u001b[0m\u001b[0;36m2\u001b[0m\u001b[0;34m)\u001b[0m\u001b[0;34m\u001b[0m\u001b[0;34m\u001b[0m\u001b[0m\n\u001b[0;32m----> 3\u001b[0;31m \u001b[0mf\u001b[0m\u001b[0;34m,\u001b[0m \u001b[0;34m(\u001b[0m\u001b[0max1\u001b[0m\u001b[0;34m,\u001b[0m \u001b[0max2\u001b[0m\u001b[0;34m)\u001b[0m \u001b[0;34m=\u001b[0m \u001b[0mplt\u001b[0m\u001b[0;34m.\u001b[0m\u001b[0msubplots\u001b[0m\u001b[0;34m(\u001b[0m\u001b[0;36m1\u001b[0m\u001b[0;34m,\u001b[0m \u001b[0;36m2\u001b[0m\u001b[0;34m,\u001b[0m \u001b[0msharey\u001b[0m\u001b[0;34m=\u001b[0m\u001b[0;32mTrue\u001b[0m\u001b[0;34m)\u001b[0m\u001b[0;34m\u001b[0m\u001b[0;34m\u001b[0m\u001b[0m\n\u001b[0m\u001b[1;32m      4\u001b[0m \u001b[0max1\u001b[0m\u001b[0;34m.\u001b[0m\u001b[0mplot\u001b[0m\u001b[0;34m(\u001b[0m\u001b[0mx\u001b[0m\u001b[0;34m,\u001b[0m \u001b[0my\u001b[0m\u001b[0;34m)\u001b[0m\u001b[0;34m\u001b[0m\u001b[0;34m\u001b[0m\u001b[0m\n\u001b[1;32m      5\u001b[0m \u001b[0max1\u001b[0m\u001b[0;34m.\u001b[0m\u001b[0mset_title\u001b[0m\u001b[0;34m(\u001b[0m\u001b[0;34m'Sharing Y axis'\u001b[0m\u001b[0;34m)\u001b[0m\u001b[0;34m\u001b[0m\u001b[0;34m\u001b[0m\u001b[0m\n",
            "\u001b[0;31mNameError\u001b[0m: name 'plt' is not defined"
          ]
        }
      ]
    },
    {
      "cell_type": "code",
      "metadata": {
        "id": "o4NJDEXK8weq",
        "colab_type": "code",
        "outputId": "c9c17b0b-f60c-42fe-82c8-a28bb96cf253",
        "colab": {
          "base_uri": "https://localhost:8080/",
          "height": 212
        }
      },
      "source": [
        "fig, (ax1,ax2) = plt. subplots(2, sharex=True)\n",
        "fig.suptitle('Aligning x-axis using sharex')\n",
        "ax1.plot(x,y)\n",
        "ax2.plot(x+1, -y)"
      ],
      "execution_count": 7,
      "outputs": [
        {
          "output_type": "error",
          "ename": "NameError",
          "evalue": "ignored",
          "traceback": [
            "\u001b[0;31m---------------------------------------------------------------------------\u001b[0m",
            "\u001b[0;31mNameError\u001b[0m                                 Traceback (most recent call last)",
            "\u001b[0;32m<ipython-input-7-5f4f2d6601ab>\u001b[0m in \u001b[0;36m<module>\u001b[0;34m()\u001b[0m\n\u001b[0;32m----> 1\u001b[0;31m \u001b[0mfig\u001b[0m\u001b[0;34m,\u001b[0m \u001b[0;34m(\u001b[0m\u001b[0max1\u001b[0m\u001b[0;34m,\u001b[0m\u001b[0max2\u001b[0m\u001b[0;34m)\u001b[0m \u001b[0;34m=\u001b[0m \u001b[0mplt\u001b[0m\u001b[0;34m.\u001b[0m \u001b[0msubplots\u001b[0m\u001b[0;34m(\u001b[0m\u001b[0;36m2\u001b[0m\u001b[0;34m,\u001b[0m \u001b[0msharex\u001b[0m\u001b[0;34m=\u001b[0m\u001b[0;32mTrue\u001b[0m\u001b[0;34m)\u001b[0m\u001b[0;34m\u001b[0m\u001b[0;34m\u001b[0m\u001b[0m\n\u001b[0m\u001b[1;32m      2\u001b[0m \u001b[0mfig\u001b[0m\u001b[0;34m.\u001b[0m\u001b[0msuptitle\u001b[0m\u001b[0;34m(\u001b[0m\u001b[0;34m'Aligning x-axis using sharex'\u001b[0m\u001b[0;34m)\u001b[0m\u001b[0;34m\u001b[0m\u001b[0;34m\u001b[0m\u001b[0m\n\u001b[1;32m      3\u001b[0m \u001b[0max1\u001b[0m\u001b[0;34m.\u001b[0m\u001b[0mplot\u001b[0m\u001b[0;34m(\u001b[0m\u001b[0mx\u001b[0m\u001b[0;34m,\u001b[0m\u001b[0my\u001b[0m\u001b[0;34m)\u001b[0m\u001b[0;34m\u001b[0m\u001b[0;34m\u001b[0m\u001b[0m\n\u001b[1;32m      4\u001b[0m \u001b[0max2\u001b[0m\u001b[0;34m.\u001b[0m\u001b[0mplot\u001b[0m\u001b[0;34m(\u001b[0m\u001b[0mx\u001b[0m\u001b[0;34m+\u001b[0m\u001b[0;36m1\u001b[0m\u001b[0;34m,\u001b[0m \u001b[0;34m-\u001b[0m\u001b[0my\u001b[0m\u001b[0;34m)\u001b[0m\u001b[0;34m\u001b[0m\u001b[0;34m\u001b[0m\u001b[0m\n",
            "\u001b[0;31mNameError\u001b[0m: name 'plt' is not defined"
          ]
        }
      ]
    },
    {
      "cell_type": "code",
      "metadata": {
        "id": "L_G3Vvk5BguV",
        "colab_type": "code",
        "colab": {}
      },
      "source": [
        "Y=dataset['median_house_value']\n",
        "X=dataset.loc[:,'longitude':'median_income']"
      ],
      "execution_count": 0,
      "outputs": []
    },
    {
      "cell_type": "code",
      "metadata": {
        "id": "XHdc_XB7BqmP",
        "colab_type": "code",
        "colab": {}
      },
      "source": [
        "x_train,x_test,y_train,y_test=train_test_split(X,Y,test_size=0.2)\n",
        "x_train_np=x_train.to_numpy()\n",
        "y_train_np=y_train.to_numpy()\n",
        "x_test_np=x_test.to_numpy()\n",
        "y_test_np=y_test.to_numpy()"
      ],
      "execution_count": 0,
      "outputs": []
    },
    {
      "cell_type": "code",
      "metadata": {
        "id": "V24G5o8mCfDX",
        "colab_type": "code",
        "colab": {}
      },
      "source": [
        "import torch\n",
        "from torch.nn import Conv1d\n",
        "from torch.nn import MaxPool1d\n",
        "from torch.nn import Flatten\n",
        "from torch.nn import Linear\n",
        "from torch.nn.functional import relu\n",
        "from torch.utils.data import DataLoader,TensorDataset"
      ],
      "execution_count": 0,
      "outputs": []
    },
    {
      "cell_type": "code",
      "metadata": {
        "id": "wzX2GVTl25aw",
        "colab_type": "code",
        "outputId": "f94edc5e-1677-463f-9459-66e830490e61",
        "colab": {
          "base_uri": "https://localhost:8080/",
          "height": 138
        }
      },
      "source": [
        "from torch.optim import SGD,RMSprop\n",
        "from torch.nn import L1Loss\n",
        "!pip install pytorch-ignite\n",
        "from ignite.contrib.metrics.regression.r2_score import R2Score\n",
        "\n"
      ],
      "execution_count": 11,
      "outputs": [
        {
          "output_type": "stream",
          "text": [
            "Collecting pytorch-ignite\n",
            "\u001b[?25l  Downloading https://files.pythonhosted.org/packages/35/55/41e8a995876fd2ade29bdba0c3efefa38e7d605cb353c70f3173c04928b5/pytorch_ignite-0.3.0-py2.py3-none-any.whl (103kB)\n",
            "\r\u001b[K     |███▏                            | 10kB 27.0MB/s eta 0:00:01\r\u001b[K     |██████▎                         | 20kB 6.0MB/s eta 0:00:01\r\u001b[K     |█████████▌                      | 30kB 6.9MB/s eta 0:00:01\r\u001b[K     |████████████▋                   | 40kB 5.5MB/s eta 0:00:01\r\u001b[K     |███████████████▉                | 51kB 5.9MB/s eta 0:00:01\r\u001b[K     |███████████████████             | 61kB 7.0MB/s eta 0:00:01\r\u001b[K     |██████████████████████▏         | 71kB 7.5MB/s eta 0:00:01\r\u001b[K     |█████████████████████████▎      | 81kB 7.3MB/s eta 0:00:01\r\u001b[K     |████████████████████████████▍   | 92kB 8.0MB/s eta 0:00:01\r\u001b[K     |███████████████████████████████▋| 102kB 8.8MB/s eta 0:00:01\r\u001b[K     |████████████████████████████████| 112kB 8.8MB/s \n",
            "\u001b[?25hRequirement already satisfied: torch in /usr/local/lib/python3.6/dist-packages (from pytorch-ignite) (1.4.0)\n",
            "Installing collected packages: pytorch-ignite\n",
            "Successfully installed pytorch-ignite-0.3.0\n"
          ],
          "name": "stdout"
        }
      ]
    },
    {
      "cell_type": "code",
      "metadata": {
        "id": "SUGqB7_yDQBU",
        "colab_type": "code",
        "colab": {}
      },
      "source": [
        "class CnnRegressor(torch.nn.Module):\n",
        "  def __init__(self, batch_size, inputs, outputs) :\n",
        "    super(CnnRegressor,self).__init__()\n",
        "    self.batch_size=batch_size\n",
        "    self.inputs=inputs\n",
        "    self.outputs=outputs\n",
        "    self.input_layer=Conv1d(inputs,batch_size,1)\n",
        "    self.max_pooling_layer=MaxPool1d(1)\n",
        "    self.conv_layer=Conv1d(batch_size,128,1)\n",
        "    self.flatten_layer=Flatten()\n",
        "    self.linear_layer=Linear(128,64) \n",
        "    self.output_layer=Linear(64,outputs)\n",
        "  def forward(self,input):\n",
        "    input= input.reshape((self.batch_size, self.inputs, 1))\n",
        "    output=relu(self.input_layer(input))\n",
        "    output=self.max_pooling_layer(output)\n",
        "    output=relu(self.conv_layer(output))\n",
        "    output=self.flatten_layer(output)\n",
        "    output=self.linear_layer(output)\n",
        "    output = self.output_layer(output)\n",
        "    return output"
      ],
      "execution_count": 0,
      "outputs": []
    },
    {
      "cell_type": "code",
      "metadata": {
        "id": "mVQJpc0c3vzi",
        "colab_type": "code",
        "colab": {}
      },
      "source": [
        "def model_loss(model,dataset,train=False,optimizer=None):\n",
        "  performance=L1Loss()\n",
        "  score_metric=R2Score()\n",
        "  avg_loss=0\n",
        "  avg_score=0\n",
        "  count=0\n",
        "  for input,output in iter(dataset):\n",
        "    predictions=model.forward(input)\n",
        "    loss=performance(predictions,output)\n",
        "    score_metric.update([predictions,output])\n",
        "    score=score_metric.compute()\n",
        "    if(train) :\n",
        "      optimizer.zero_grad()\n",
        "      loss.backward()\n",
        "      optimizer.step()\n",
        "    avg_loss += loss.item()\n",
        "    avg_score += score\n",
        "    count += 1\n",
        "  return avg_loss / count,avg_score / count\n",
        "\n",
        "\n"
      ],
      "execution_count": 0,
      "outputs": []
    },
    {
      "cell_type": "code",
      "metadata": {
        "id": "HiG4o0YU99jR",
        "colab_type": "code",
        "outputId": "d775a194-d19b-49c7-81c0-9a94c6de88ff",
        "colab": {
          "base_uri": "https://localhost:8080/",
          "height": 151
        }
      },
      "source": [
        "batch_size=32\n",
        "model=CnnRegressor(batch_size,X.shape[1],1)\n",
        "model.cuda()"
      ],
      "execution_count": 23,
      "outputs": [
        {
          "output_type": "execute_result",
          "data": {
            "text/plain": [
              "CnnRegressor(\n",
              "  (input_layer): Conv1d(8, 32, kernel_size=(1,), stride=(1,))\n",
              "  (max_pooling_layer): MaxPool1d(kernel_size=1, stride=1, padding=0, dilation=1, ceil_mode=False)\n",
              "  (conv_layer): Conv1d(32, 128, kernel_size=(1,), stride=(1,))\n",
              "  (flatten_layer): Flatten()\n",
              "  (linear_layer): Linear(in_features=128, out_features=64, bias=True)\n",
              "  (output_layer): Linear(in_features=64, out_features=1, bias=True)\n",
              ")"
            ]
          },
          "metadata": {
            "tags": []
          },
          "execution_count": 23
        }
      ]
    },
    {
      "cell_type": "code",
      "metadata": {
        "id": "FPmoNai-9wt0",
        "colab_type": "code",
        "outputId": "32ab4946-e8eb-4d19-c21e-f87cffa35742",
        "colab": {
          "base_uri": "https://localhost:8080/",
          "height": 1000
        }
      },
      "source": [
        "epochs=100\n",
        "optimizer=RMSprop(model.parameters(),lr=0.02)\n",
        "inputs=torch.from_numpy(x_train_np).cuda().float()\n",
        "outputs=torch.from_numpy(y_train_np.reshape(y_train_np.shape[0],1)).cuda().float()\n",
        "tensor=TensorDataset(inputs,outputs)\n",
        "loader=DataLoader(tensor,batch_size,shuffle=True,drop_last=True)\n",
        "for epoch in range(epochs):\n",
        "  avg_loss,avg_r2_score=model_loss(model,loader,train=True,optimizer=optimizer)\n",
        "  print(\"Epoch\"+str(epoch+1)+\":\\n\\tLoss=\"+str(avg_loss)+\"\\n\\tR^2Score=\"+str(avg_r2_score))\n"
      ],
      "execution_count": 24,
      "outputs": [
        {
          "output_type": "stream",
          "text": [
            "Epoch1:\n",
            "\tLoss=92445.56695772058\n",
            "\tR^2Score=-0.7081819144932593\n",
            "Epoch2:\n",
            "\tLoss=79298.45400582108\n",
            "\tR^2Score=0.17057350791053405\n",
            "Epoch3:\n",
            "\tLoss=76224.35376072304\n",
            "\tR^2Score=0.2303088040299687\n",
            "Epoch4:\n",
            "\tLoss=72705.35672487745\n",
            "\tR^2Score=0.2858446050320677\n",
            "Epoch5:\n",
            "\tLoss=71929.8972120098\n",
            "\tR^2Score=0.30362650497768756\n",
            "Epoch6:\n",
            "\tLoss=69726.67202052697\n",
            "\tR^2Score=0.36882834652208407\n",
            "Epoch7:\n",
            "\tLoss=68855.019921875\n",
            "\tR^2Score=0.3757915168831183\n",
            "Epoch8:\n",
            "\tLoss=67701.78046109069\n",
            "\tR^2Score=0.3814081289516943\n",
            "Epoch9:\n",
            "\tLoss=66830.2556908701\n",
            "\tR^2Score=0.4088711781991571\n",
            "Epoch10:\n",
            "\tLoss=66033.43667279412\n",
            "\tR^2Score=0.4158885970425709\n",
            "Epoch11:\n",
            "\tLoss=65412.03740042892\n",
            "\tR^2Score=0.43199704534850136\n",
            "Epoch12:\n",
            "\tLoss=64191.421614583334\n",
            "\tR^2Score=0.4515911243634377\n",
            "Epoch13:\n",
            "\tLoss=63872.68511795343\n",
            "\tR^2Score=0.4507391723087694\n",
            "Epoch14:\n",
            "\tLoss=63015.68271292892\n",
            "\tR^2Score=0.4687256054695731\n",
            "Epoch15:\n",
            "\tLoss=62620.83439797794\n",
            "\tR^2Score=0.4915106044252579\n",
            "Epoch16:\n",
            "\tLoss=61647.47375153186\n",
            "\tR^2Score=0.49891795553219037\n",
            "Epoch17:\n",
            "\tLoss=61549.96892616421\n",
            "\tR^2Score=0.4845882806465161\n",
            "Epoch18:\n",
            "\tLoss=60933.05935968137\n",
            "\tR^2Score=0.49736398107766616\n",
            "Epoch19:\n",
            "\tLoss=60990.74332873774\n",
            "\tR^2Score=0.48292621934627783\n",
            "Epoch20:\n",
            "\tLoss=60199.448736213235\n",
            "\tR^2Score=0.5243940364217465\n",
            "Epoch21:\n",
            "\tLoss=59488.49305300245\n",
            "\tR^2Score=0.5207953021628415\n",
            "Epoch22:\n",
            "\tLoss=59318.93626685049\n",
            "\tR^2Score=0.5241124118761257\n",
            "Epoch23:\n",
            "\tLoss=58720.41806066177\n",
            "\tR^2Score=0.5231912445408066\n",
            "Epoch24:\n",
            "\tLoss=58885.87706035539\n",
            "\tR^2Score=0.5154473913811652\n",
            "Epoch25:\n",
            "\tLoss=58408.70032935049\n",
            "\tR^2Score=0.5344029782798942\n",
            "Epoch26:\n",
            "\tLoss=57980.12362132353\n",
            "\tR^2Score=0.5545758073750239\n",
            "Epoch27:\n",
            "\tLoss=57322.94260110294\n",
            "\tR^2Score=0.5464124166705128\n",
            "Epoch28:\n",
            "\tLoss=57214.24420189951\n",
            "\tR^2Score=0.5474668839162006\n",
            "Epoch29:\n",
            "\tLoss=57439.94450061274\n",
            "\tR^2Score=0.5365795230688359\n",
            "Epoch30:\n",
            "\tLoss=56560.45506663603\n",
            "\tR^2Score=0.551219484214284\n",
            "Epoch31:\n",
            "\tLoss=56839.778645833336\n",
            "\tR^2Score=0.5582154655710437\n",
            "Epoch32:\n",
            "\tLoss=56500.46229319853\n",
            "\tR^2Score=0.5527691038489259\n",
            "Epoch33:\n",
            "\tLoss=56449.68903952206\n",
            "\tR^2Score=0.5507950508731843\n",
            "Epoch34:\n",
            "\tLoss=55810.679549632354\n",
            "\tR^2Score=0.5582507666236965\n",
            "Epoch35:\n",
            "\tLoss=56357.46748621324\n",
            "\tR^2Score=0.5558371530207258\n",
            "Epoch36:\n",
            "\tLoss=55544.89892769608\n",
            "\tR^2Score=0.5688781707120113\n",
            "Epoch37:\n",
            "\tLoss=55875.21431908701\n",
            "\tR^2Score=0.5446692070470549\n",
            "Epoch38:\n",
            "\tLoss=55459.34494485294\n",
            "\tR^2Score=0.570113759739274\n",
            "Epoch39:\n",
            "\tLoss=55484.181001072306\n",
            "\tR^2Score=0.5697040299321924\n",
            "Epoch40:\n",
            "\tLoss=55391.0812768076\n",
            "\tR^2Score=0.5632480716028999\n",
            "Epoch41:\n",
            "\tLoss=54834.32401194853\n",
            "\tR^2Score=0.5639017975642051\n",
            "Epoch42:\n",
            "\tLoss=55365.535546875\n",
            "\tR^2Score=0.5583245353683728\n",
            "Epoch43:\n",
            "\tLoss=54685.840349264705\n",
            "\tR^2Score=0.5831348232705954\n",
            "Epoch44:\n",
            "\tLoss=55011.99163602941\n",
            "\tR^2Score=0.5799706672211894\n",
            "Epoch45:\n",
            "\tLoss=54857.58409160539\n",
            "\tR^2Score=0.5752630292947405\n",
            "Epoch46:\n",
            "\tLoss=54444.80878140319\n",
            "\tR^2Score=0.5938981375414498\n",
            "Epoch47:\n",
            "\tLoss=54733.40264246323\n",
            "\tR^2Score=0.5796282040601183\n",
            "Epoch48:\n",
            "\tLoss=54594.01563265931\n",
            "\tR^2Score=0.5695230154966834\n",
            "Epoch49:\n",
            "\tLoss=54475.381874234066\n",
            "\tR^2Score=0.5856179623690676\n",
            "Epoch50:\n",
            "\tLoss=54065.297223498776\n",
            "\tR^2Score=0.5879561730303886\n",
            "Epoch51:\n",
            "\tLoss=54302.04067478554\n",
            "\tR^2Score=0.5834049404474905\n",
            "Epoch52:\n",
            "\tLoss=54327.13299632353\n",
            "\tR^2Score=0.5732706053728392\n",
            "Epoch53:\n",
            "\tLoss=53923.43728170956\n",
            "\tR^2Score=0.5796766519552112\n",
            "Epoch54:\n",
            "\tLoss=53951.08305376838\n",
            "\tR^2Score=0.5861397767617996\n",
            "Epoch55:\n",
            "\tLoss=53827.06363357843\n",
            "\tR^2Score=0.5871027014391144\n",
            "Epoch56:\n",
            "\tLoss=53890.57591528799\n",
            "\tR^2Score=0.5916290009695808\n",
            "Epoch57:\n",
            "\tLoss=53688.18039598652\n",
            "\tR^2Score=0.5963019798374164\n",
            "Epoch58:\n",
            "\tLoss=53331.08435968137\n",
            "\tR^2Score=0.5944607375543531\n",
            "Epoch59:\n",
            "\tLoss=53384.91792662378\n",
            "\tR^2Score=0.5961207888213337\n",
            "Epoch60:\n",
            "\tLoss=53447.7256663603\n",
            "\tR^2Score=0.5900608352085357\n",
            "Epoch61:\n",
            "\tLoss=53479.54898131127\n",
            "\tR^2Score=0.5952489021028984\n",
            "Epoch62:\n",
            "\tLoss=53297.60368030024\n",
            "\tR^2Score=0.6052421357074147\n",
            "Epoch63:\n",
            "\tLoss=52927.64359681372\n",
            "\tR^2Score=0.6002622953948087\n",
            "Epoch64:\n",
            "\tLoss=53191.08348651961\n",
            "\tR^2Score=0.6024729433560615\n",
            "Epoch65:\n",
            "\tLoss=52957.83637025123\n",
            "\tR^2Score=0.6022366203695756\n",
            "Epoch66:\n",
            "\tLoss=52682.62322686887\n",
            "\tR^2Score=0.606176099777311\n",
            "Epoch67:\n",
            "\tLoss=52931.37814797794\n",
            "\tR^2Score=0.6012897240486177\n",
            "Epoch68:\n",
            "\tLoss=52833.189981617645\n",
            "\tR^2Score=0.596260988719676\n",
            "Epoch69:\n",
            "\tLoss=52802.392183670345\n",
            "\tR^2Score=0.5976367909380822\n",
            "Epoch70:\n",
            "\tLoss=52618.92046568627\n",
            "\tR^2Score=0.613326375037891\n",
            "Epoch71:\n",
            "\tLoss=52360.96056985294\n",
            "\tR^2Score=0.6173893774548851\n",
            "Epoch72:\n",
            "\tLoss=52439.17988664216\n",
            "\tR^2Score=0.6086357008687288\n",
            "Epoch73:\n",
            "\tLoss=52385.600237438724\n",
            "\tR^2Score=0.6124142314665676\n",
            "Epoch74:\n",
            "\tLoss=52680.16854319853\n",
            "\tR^2Score=0.5912944438076335\n",
            "Epoch75:\n",
            "\tLoss=52496.86950827206\n",
            "\tR^2Score=0.5945427595557721\n",
            "Epoch76:\n",
            "\tLoss=52170.02199754902\n",
            "\tR^2Score=0.6008850884290132\n",
            "Epoch77:\n",
            "\tLoss=51850.46826363358\n",
            "\tR^2Score=0.6234581431023217\n",
            "Epoch78:\n",
            "\tLoss=51927.85803079044\n",
            "\tR^2Score=0.6140838260885414\n",
            "Epoch79:\n",
            "\tLoss=52006.33216528799\n",
            "\tR^2Score=0.6231886344258939\n",
            "Epoch80:\n",
            "\tLoss=51986.5914330576\n",
            "\tR^2Score=0.6134236678538414\n",
            "Epoch81:\n",
            "\tLoss=51933.243114276964\n",
            "\tR^2Score=0.5943349928130002\n",
            "Epoch82:\n",
            "\tLoss=51842.42047717525\n",
            "\tR^2Score=0.6054932287778239\n",
            "Epoch83:\n",
            "\tLoss=51730.40542662377\n",
            "\tR^2Score=0.6167886721866561\n",
            "Epoch84:\n",
            "\tLoss=51502.718179381125\n",
            "\tR^2Score=0.6138288925703168\n",
            "Epoch85:\n",
            "\tLoss=51676.45261182598\n",
            "\tR^2Score=0.6074159363522831\n",
            "Epoch86:\n",
            "\tLoss=51354.077186734066\n",
            "\tR^2Score=0.6186638973439852\n",
            "Epoch87:\n",
            "\tLoss=51522.588273590685\n",
            "\tR^2Score=0.62406975098649\n",
            "Epoch88:\n",
            "\tLoss=51800.74413679534\n",
            "\tR^2Score=0.6247257708361791\n",
            "Epoch89:\n",
            "\tLoss=51709.278071384804\n",
            "\tR^2Score=0.6122059475620526\n",
            "Epoch90:\n",
            "\tLoss=51503.838028492646\n",
            "\tR^2Score=0.61482857951601\n",
            "Epoch91:\n",
            "\tLoss=51127.30709635417\n",
            "\tR^2Score=0.623630728290086\n",
            "Epoch92:\n",
            "\tLoss=51473.090180759806\n",
            "\tR^2Score=0.6011345811522149\n",
            "Epoch93:\n",
            "\tLoss=51205.27320389093\n",
            "\tR^2Score=0.6343150631114062\n",
            "Epoch94:\n",
            "\tLoss=51730.63370481005\n",
            "\tR^2Score=0.6137252958371583\n",
            "Epoch95:\n",
            "\tLoss=51322.67182904412\n",
            "\tR^2Score=0.6266598473360497\n",
            "Epoch96:\n",
            "\tLoss=51167.81255744485\n",
            "\tR^2Score=0.617741503992924\n",
            "Epoch97:\n",
            "\tLoss=51139.36497778799\n",
            "\tR^2Score=0.6169747191731745\n",
            "Epoch98:\n",
            "\tLoss=51320.78709788603\n",
            "\tR^2Score=0.6061924680344583\n",
            "Epoch99:\n",
            "\tLoss=51139.956659773285\n",
            "\tR^2Score=0.6190928564190965\n",
            "Epoch100:\n",
            "\tLoss=50840.429461550244\n",
            "\tR^2Score=0.6337960623022239\n"
          ],
          "name": "stdout"
        }
      ]
    },
    {
      "cell_type": "code",
      "metadata": {
        "id": "HZy0KJ8K6CE6",
        "colab_type": "code",
        "outputId": "0de143cd-d796-40ac-f950-a664cd14327c",
        "colab": {
          "base_uri": "https://localhost:8080/",
          "height": 50
        }
      },
      "source": [
        "inputs=torch.from_numpy(x_test_np).cuda().float()\n",
        "outputs=torch.from_numpy(y_test_np.reshape(y_test_np.shape[0],1)).cuda().float()\n",
        "tensor=TensorDataset(inputs,outputs)\n",
        "loader=DataLoader(tensor,batch_size,shuffle=True,drop_last=True)\n",
        "avg_loss, avg_r2_score = model_loss(model,loader)\n",
        "print(\"Themodel'sL1lossis:\"+str(avg_loss))\n",
        "print(\"Themodel'sR^2scoreis:\"+str(avg_r2_score))\n",
        "\n",
        "                  \n",
        "                  "
      ],
      "execution_count": 16,
      "outputs": [
        {
          "output_type": "stream",
          "text": [
            "Themodel'sL1lossis:46390.42362819882\n",
            "Themodel'sR^2scoreis:0.6668310230085349\n"
          ],
          "name": "stdout"
        }
      ]
    },
    {
      "cell_type": "markdown",
      "metadata": {
        "id": "HOHknEMwnTKD",
        "colab_type": "text"
      },
      "source": [
        "## Saving the trained model"
      ]
    },
    {
      "cell_type": "code",
      "metadata": {
        "id": "fc4h8-uPmKHu",
        "colab_type": "code",
        "colab": {}
      },
      "source": [
        "torch.save(model, '1113852_1dconv_reg')"
      ],
      "execution_count": 0,
      "outputs": []
    },
    {
      "cell_type": "markdown",
      "metadata": {
        "id": "_vEpV5MXnXsR",
        "colab_type": "text"
      },
      "source": [
        "## Loading the saved model"
      ]
    },
    {
      "cell_type": "code",
      "metadata": {
        "id": "5ZTIEcKEm5Kv",
        "colab_type": "code",
        "colab": {}
      },
      "source": [
        "saved_model = torch.load('1113852_1dconv_reg')"
      ],
      "execution_count": 0,
      "outputs": []
    },
    {
      "cell_type": "code",
      "metadata": {
        "id": "c1kYt-eenJ_w",
        "colab_type": "code",
        "colab": {
          "base_uri": "https://localhost:8080/",
          "height": 50
        },
        "outputId": "cf4d123d-d39e-49b9-986b-a90bf4774718"
      },
      "source": [
        "inputs=torch.from_numpy(x_test_np).cuda().float()\n",
        "outputs=torch.from_numpy(y_test_np.reshape(y_test_np.shape[0],1)).cuda().float()\n",
        "tensor=TensorDataset(inputs,outputs)\n",
        "loader=DataLoader(tensor,batch_size,shuffle=True,drop_last=True)\n",
        "avg_loss, avg_r2_score = model_loss(saved_model,loader)\n",
        "print(\"Themodel'sL1lossis:\"+str(avg_loss))\n",
        "print(\"Themodel'sR^2scoreis:\"+str(avg_r2_score))"
      ],
      "execution_count": 28,
      "outputs": [
        {
          "output_type": "stream",
          "text": [
            "Themodel'sL1lossis:52565.22748523622\n",
            "Themodel'sR^2scoreis:0.65258112576267\n"
          ],
          "name": "stdout"
        }
      ]
    },
    {
      "cell_type": "code",
      "metadata": {
        "id": "Wt1jxVGPDTYk",
        "colab_type": "code",
        "colab": {}
      },
      "source": [
        "df = dataset.copy()\n",
        "df = df.drop(columns=['ocean_proximity'])\n",
        "df = df[:20]"
      ],
      "execution_count": 0,
      "outputs": []
    },
    {
      "cell_type": "code",
      "metadata": {
        "id": "zWcLmLLHDmaD",
        "colab_type": "code",
        "outputId": "fd78202f-4483-46ca-908b-25ccbba4c385",
        "colab": {
          "base_uri": "https://localhost:8080/",
          "height": 195
        }
      },
      "source": [
        "df.head()"
      ],
      "execution_count": 18,
      "outputs": [
        {
          "output_type": "execute_result",
          "data": {
            "text/html": [
              "<div>\n",
              "<style scoped>\n",
              "    .dataframe tbody tr th:only-of-type {\n",
              "        vertical-align: middle;\n",
              "    }\n",
              "\n",
              "    .dataframe tbody tr th {\n",
              "        vertical-align: top;\n",
              "    }\n",
              "\n",
              "    .dataframe thead th {\n",
              "        text-align: right;\n",
              "    }\n",
              "</style>\n",
              "<table border=\"1\" class=\"dataframe\">\n",
              "  <thead>\n",
              "    <tr style=\"text-align: right;\">\n",
              "      <th></th>\n",
              "      <th>longitude</th>\n",
              "      <th>latitude</th>\n",
              "      <th>housing_median_age</th>\n",
              "      <th>total_rooms</th>\n",
              "      <th>total_bedrooms</th>\n",
              "      <th>population</th>\n",
              "      <th>households</th>\n",
              "      <th>median_income</th>\n",
              "      <th>median_house_value</th>\n",
              "    </tr>\n",
              "  </thead>\n",
              "  <tbody>\n",
              "    <tr>\n",
              "      <th>0</th>\n",
              "      <td>-122.23</td>\n",
              "      <td>37.88</td>\n",
              "      <td>41.0</td>\n",
              "      <td>880.0</td>\n",
              "      <td>129.0</td>\n",
              "      <td>322.0</td>\n",
              "      <td>126.0</td>\n",
              "      <td>8.3252</td>\n",
              "      <td>452600.0</td>\n",
              "    </tr>\n",
              "    <tr>\n",
              "      <th>1</th>\n",
              "      <td>-122.22</td>\n",
              "      <td>37.86</td>\n",
              "      <td>21.0</td>\n",
              "      <td>7099.0</td>\n",
              "      <td>1106.0</td>\n",
              "      <td>2401.0</td>\n",
              "      <td>1138.0</td>\n",
              "      <td>8.3014</td>\n",
              "      <td>358500.0</td>\n",
              "    </tr>\n",
              "    <tr>\n",
              "      <th>2</th>\n",
              "      <td>-122.24</td>\n",
              "      <td>37.85</td>\n",
              "      <td>52.0</td>\n",
              "      <td>1467.0</td>\n",
              "      <td>190.0</td>\n",
              "      <td>496.0</td>\n",
              "      <td>177.0</td>\n",
              "      <td>7.2574</td>\n",
              "      <td>352100.0</td>\n",
              "    </tr>\n",
              "    <tr>\n",
              "      <th>3</th>\n",
              "      <td>-122.25</td>\n",
              "      <td>37.85</td>\n",
              "      <td>52.0</td>\n",
              "      <td>1274.0</td>\n",
              "      <td>235.0</td>\n",
              "      <td>558.0</td>\n",
              "      <td>219.0</td>\n",
              "      <td>5.6431</td>\n",
              "      <td>341300.0</td>\n",
              "    </tr>\n",
              "    <tr>\n",
              "      <th>4</th>\n",
              "      <td>-122.25</td>\n",
              "      <td>37.85</td>\n",
              "      <td>52.0</td>\n",
              "      <td>1627.0</td>\n",
              "      <td>280.0</td>\n",
              "      <td>565.0</td>\n",
              "      <td>259.0</td>\n",
              "      <td>3.8462</td>\n",
              "      <td>342200.0</td>\n",
              "    </tr>\n",
              "  </tbody>\n",
              "</table>\n",
              "</div>"
            ],
            "text/plain": [
              "   longitude  latitude  ...  median_income  median_house_value\n",
              "0    -122.23     37.88  ...         8.3252            452600.0\n",
              "1    -122.22     37.86  ...         8.3014            358500.0\n",
              "2    -122.24     37.85  ...         7.2574            352100.0\n",
              "3    -122.25     37.85  ...         5.6431            341300.0\n",
              "4    -122.25     37.85  ...         3.8462            342200.0\n",
              "\n",
              "[5 rows x 9 columns]"
            ]
          },
          "metadata": {
            "tags": []
          },
          "execution_count": 18
        }
      ]
    },
    {
      "cell_type": "code",
      "metadata": {
        "id": "fBzZ8lZqWldh",
        "colab_type": "code",
        "outputId": "bdb25ff8-c09f-4e32-9fbf-671d6c68b6f2",
        "colab": {
          "base_uri": "https://localhost:8080/",
          "height": 628
        }
      },
      "source": [
        " df.plot(subplots=True, figsize=(8, 8))\n"
      ],
      "execution_count": 31,
      "outputs": [
        {
          "output_type": "execute_result",
          "data": {
            "text/plain": [
              "array([<matplotlib.axes._subplots.AxesSubplot object at 0x7f44c5f53e10>,\n",
              "       <matplotlib.axes._subplots.AxesSubplot object at 0x7f44c5b30b00>,\n",
              "       <matplotlib.axes._subplots.AxesSubplot object at 0x7f44c5b68a58>,\n",
              "       <matplotlib.axes._subplots.AxesSubplot object at 0x7f44c5b16eb8>,\n",
              "       <matplotlib.axes._subplots.AxesSubplot object at 0x7f44c5ad2358>,\n",
              "       <matplotlib.axes._subplots.AxesSubplot object at 0x7f44c5a7e7b8>,\n",
              "       <matplotlib.axes._subplots.AxesSubplot object at 0x7f44c5aaec18>,\n",
              "       <matplotlib.axes._subplots.AxesSubplot object at 0x7f44c5a6a0f0>,\n",
              "       <matplotlib.axes._subplots.AxesSubplot object at 0x7f44c5a6a128>],\n",
              "      dtype=object)"
            ]
          },
          "metadata": {
            "tags": []
          },
          "execution_count": 31
        },
        {
          "output_type": "display_data",
          "data": {
            "image/png": "[encoded data removed]",
            "text/plain": [
              "<Figure size 576x576 with 9 Axes>"
            ]
          },
          "metadata": {
            "tags": []
          }
        }
      ]
    }
  ]
}